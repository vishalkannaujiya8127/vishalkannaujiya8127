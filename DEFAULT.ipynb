{
 "cells": [
  {
   "cell_type": "code",
   "execution_count": 2,
   "id": "98e74c0c-854f-47be-a449-dc218f9d8ad0",
   "metadata": {},
   "outputs": [
    {
     "name": "stdout",
     "output_type": "stream",
     "text": [
      "Hello World\n"
     ]
    }
   ],
   "source": [
    "print('Hello World')"
   ]
  },
  {
   "cell_type": "markdown",
   "id": "1cd48101-2238-45ec-8258-64a6624be910",
   "metadata": {},
   "source": [
    "MY NAME IS VISHAL KANNAUJIYA"
   ]
  },
  {
   "cell_type": "markdown",
   "id": "7c86db8c-4c45-4409-9e42-447988353df0",
   "metadata": {},
   "source": [
    "THIS IS MY FIRST CODE "
   ]
  },
  {
   "cell_type": "code",
   "execution_count": null,
   "id": "c1490cae-3fc0-4f0b-b207-66f993403db4",
   "metadata": {},
   "outputs": [],
   "source": []
  }
 ],
 "metadata": {
  "kernelspec": {
   "display_name": "Python 3 (ipykernel)",
   "language": "python",
   "name": "python3"
  },
  "language_info": {
   "codemirror_mode": {
    "name": "ipython",
    "version": 3
   },
   "file_extension": ".py",
   "mimetype": "text/x-python",
   "name": "python",
   "nbconvert_exporter": "python",
   "pygments_lexer": "ipython3",
   "version": "3.11.3"
  }
 },
 "nbformat": 4,
 "nbformat_minor": 5
}
